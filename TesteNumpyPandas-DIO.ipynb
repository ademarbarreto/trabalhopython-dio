{
 "cells": [
  {
   "cell_type": "markdown",
   "metadata": {},
   "source": [
    "## Análise de uma pequena base de dados de 20 países em relação às taxas de emprego em cada destes países\n",
    "\n",
    "### A primeira seção é uma análise utilizando o numpy\n",
    "### A segunda seção é uma análise utilizando o pandas e também é feita uma análise gráfica\n",
    "### A terceira seção são exercícios utilzando o numpy\n",
    "\n",
    "### Conclusão : Não existe outlier na amostra\n"
   ]
  },
  {
   "cell_type": "code",
   "execution_count": 1,
   "metadata": {
    "ExecuteTime": {
     "end_time": "2021-09-28T23:18:48.983193Z",
     "start_time": "2021-09-28T23:18:36.814575Z"
    }
   },
   "outputs": [],
   "source": [
    "import numpy as np\n",
    "import pandas as pd\n",
    "import seaborn as sns\n",
    "import matplotlib.pyplot as plt\n",
    "from IPython.display import set_matplotlib_formats\n",
    "%matplotlib inline"
   ]
  },
  {
   "cell_type": "code",
   "execution_count": 2,
   "metadata": {
    "ExecuteTime": {
     "end_time": "2021-09-28T23:18:49.015195Z",
     "start_time": "2021-09-28T23:18:48.988195Z"
    }
   },
   "outputs": [
    {
     "name": "stderr",
     "output_type": "stream",
     "text": [
      "C:\\Users\\adema\\AppData\\Local\\Temp/ipykernel_25488/220270344.py:1: DeprecationWarning: `set_matplotlib_formats` is deprecated since IPython 7.23, directly use `matplotlib_inline.backend_inline.set_matplotlib_formats()`\n",
      "  set_matplotlib_formats('pdf', 'png')\n"
     ]
    }
   ],
   "source": [
    "set_matplotlib_formats('pdf', 'png')\n",
    "#matplotlib_inline.backend_inline.set_matplotlib_formats()\n",
    "pd.options.display.float_format = '{:.2f}'.format\n",
    "rc={'savefig.dpi': 75, 'figure.autolayout': False, 'figure.figsize': [12, 8], 'axes.labelsize': 18,\\\n",
    "'axes.titlesize': 18, 'font.size': 18, 'lines.linewidth': 2.0, 'lines.markersize': 8, 'legend.fontsize': 16,\\\n",
    "   'xtick.labelsize': 16, 'ytick.labelsize': 16}\n",
    "\n",
    "sns.set(style='dark',rc=rc)"
   ]
  },
  {
   "cell_type": "markdown",
   "metadata": {
    "ExecuteTime": {
     "end_time": "2021-09-28T17:47:32.153328Z",
     "start_time": "2021-09-28T17:47:32.136347Z"
    }
   },
   "source": [
    "### Seção 1: Utilizando Numpy"
   ]
  },
  {
   "cell_type": "markdown",
   "metadata": {
    "ExecuteTime": {
     "end_time": "2021-09-28T17:54:17.291489Z",
     "start_time": "2021-09-28T17:54:17.274467Z"
    }
   },
   "source": [
    "### BASE DE DADOS DE 20 primeiros países com sua respectiva taxa de emprego"
   ]
  },
  {
   "cell_type": "code",
   "execution_count": 3,
   "metadata": {
    "ExecuteTime": {
     "end_time": "2021-09-28T23:18:49.185490Z",
     "start_time": "2021-09-28T23:18:49.019195Z"
    }
   },
   "outputs": [
    {
     "name": "stdout",
     "output_type": "stream",
     "text": [
      "['Afghanistan' 'Albania' 'Algeria' 'Angola' 'Argentina' 'Armenia'\n",
      " 'Australia' 'Austria' 'Azerbaijan' 'Bahamas' 'Bahrain' 'Bangladesh'\n",
      " 'Barbados' 'Belarus' 'Belgium' 'Belize' 'Benin' 'Bhutan' 'Bolivia'\n",
      " 'Bosnia and Herzegovina']\n"
     ]
    }
   ],
   "source": [
    "# Carregando a base de dados dados dos primeiros 20 países com dados de emprego\n",
    "\n",
    "paises = np.array([\n",
    "    'Afghanistan', 'Albania', 'Algeria', 'Angola', 'Argentina',\n",
    "    'Armenia', 'Australia', 'Austria', 'Azerbaijan', 'Bahamas',\n",
    "    'Bahrain', 'Bangladesh', 'Barbados', 'Belarus', 'Belgium',\n",
    "    'Belize', 'Benin', 'Bhutan', 'Bolivia',\n",
    "    'Bosnia and Herzegovina'\n",
    "])\n",
    "print (paises)"
   ]
  },
  {
   "cell_type": "code",
   "execution_count": 4,
   "metadata": {
    "ExecuteTime": {
     "end_time": "2021-09-28T23:18:49.328325Z",
     "start_time": "2021-09-28T23:18:49.189497Z"
    }
   },
   "outputs": [
    {
     "name": "stdout",
     "output_type": "stream",
     "text": [
      "Quantos países serão analisados: 20\n"
     ]
    }
   ],
   "source": [
    "print (\"Quantos países serão analisados: {}\".format(len(paises)))"
   ]
  },
  {
   "cell_type": "code",
   "execution_count": 5,
   "metadata": {
    "ExecuteTime": {
     "end_time": "2021-09-28T23:18:49.453640Z",
     "start_time": "2021-09-28T23:18:49.331297Z"
    }
   },
   "outputs": [
    {
     "name": "stdout",
     "output_type": "stream",
     "text": [
      "[55.70000076 51.40000153 50.5        75.69999695 58.40000153 40.09999847\n",
      " 61.5        57.09999847 60.90000153 66.59999847 60.40000153 68.09999847\n",
      " 66.90000153 53.40000153 48.59999847 56.79999924 71.59999847 58.40000153\n",
      " 70.40000153 41.20000076]\n"
     ]
    }
   ],
   "source": [
    "# Dados de emprego em 2007 para esses 20 países\n",
    "\n",
    "emprego = np.array([\n",
    "    55.70000076,  51.40000153,  50.5       ,  75.69999695,\n",
    "    58.40000153,  40.09999847,  61.5       ,  57.09999847,\n",
    "    60.90000153,  66.59999847,  60.40000153,  68.09999847,\n",
    "    66.90000153,  53.40000153,  48.59999847,  56.79999924,\n",
    "    71.59999847,  58.40000153,  70.40000153,  41.20000076\n",
    "])\n",
    "print (emprego)"
   ]
  },
  {
   "cell_type": "markdown",
   "metadata": {},
   "source": [
    "### Testar a base de países com operações "
   ]
  },
  {
   "cell_type": "code",
   "execution_count": 6,
   "metadata": {
    "ExecuteTime": {
     "end_time": "2021-09-28T23:18:49.563138Z",
     "start_time": "2021-09-28T23:18:49.457620Z"
    }
   },
   "outputs": [
    {
     "name": "stdout",
     "output_type": "stream",
     "text": [
      "Afghanistan\n",
      "Angola\n"
     ]
    }
   ],
   "source": [
    "# Verificar o acesso a base de dados\n",
    "print (paises[0])\n",
    "print (paises[3])"
   ]
  },
  {
   "cell_type": "code",
   "execution_count": 7,
   "metadata": {
    "ExecuteTime": {
     "end_time": "2021-09-28T23:18:49.687723Z",
     "start_time": "2021-09-28T23:18:49.567100Z"
    }
   },
   "outputs": [
    {
     "name": "stdout",
     "output_type": "stream",
     "text": [
      "['Afghanistan' 'Albania' 'Algeria']\n",
      "['Afghanistan' 'Albania' 'Algeria']\n",
      "['Bhutan' 'Bolivia' 'Bosnia and Herzegovina']\n",
      "['Afghanistan' 'Albania' 'Algeria' 'Angola' 'Argentina' 'Armenia'\n",
      " 'Australia' 'Austria' 'Azerbaijan' 'Bahamas' 'Bahrain' 'Bangladesh'\n",
      " 'Barbados' 'Belarus' 'Belgium' 'Belize' 'Benin' 'Bhutan' 'Bolivia'\n",
      " 'Bosnia and Herzegovina']\n"
     ]
    }
   ],
   "source": [
    "# Testes de acesso a base de dados\n",
    "print (paises[0:3])\n",
    "print (paises[:3])\n",
    "print (paises[17:])\n",
    "print (paises[:])"
   ]
  },
  {
   "cell_type": "code",
   "execution_count": 8,
   "metadata": {
    "ExecuteTime": {
     "end_time": "2021-09-28T23:18:49.813369Z",
     "start_time": "2021-09-28T23:18:49.691731Z"
    }
   },
   "outputs": [
    {
     "name": "stdout",
     "output_type": "stream",
     "text": [
      "<U22\n",
      "float64\n",
      "int32\n",
      "float64\n",
      "bool\n",
      "<U2\n"
     ]
    }
   ],
   "source": [
    "# Tipo de elementos\n",
    "print (paises.dtype)\n",
    "print (emprego.dtype)\n",
    "print (np.array([0, 1, 2, 3]).dtype)\n",
    "print (np.array([1.0, 1.5, 2.0, 2.5]).dtype)\n",
    "print (np.array([True, False, True]).dtype)\n",
    "print (np.array(['AL', 'AK', 'AZ', 'AR', 'CA']).dtype)"
   ]
  },
  {
   "cell_type": "code",
   "execution_count": 9,
   "metadata": {
    "ExecuteTime": {
     "end_time": "2021-09-28T23:18:49.971312Z",
     "start_time": "2021-09-28T23:18:49.820312Z"
    }
   },
   "outputs": [
    {
     "name": "stdout",
     "output_type": "stream",
     "text": [
      "País: Afghanistan\n",
      "País: Albania\n",
      "País: Algeria\n",
      "País: Angola\n",
      "País: Argentina\n",
      "País: Armenia\n",
      "País: Australia\n",
      "País: Austria\n",
      "País: Azerbaijan\n",
      "País: Bahamas\n",
      "País: Bahrain\n",
      "País: Bangladesh\n",
      "País: Barbados\n",
      "País: Belarus\n",
      "País: Belgium\n",
      "País: Belize\n",
      "País: Benin\n",
      "País: Bhutan\n",
      "País: Bolivia\n",
      "País: Bosnia and Herzegovina\n"
     ]
    },
    {
     "data": {
      "text/plain": [
       "'Amostra de países: 20'"
      ]
     },
     "execution_count": 9,
     "metadata": {},
     "output_type": "execute_result"
    }
   ],
   "source": [
    "# Executar um laço de repetição de paises\n",
    "for pais in paises:\n",
    "    print ('País: {}'.format(pais))\n",
    "    \n",
    "format('Amostra de países: {}'.format(len(paises)))    "
   ]
  },
  {
   "cell_type": "code",
   "execution_count": 10,
   "metadata": {
    "ExecuteTime": {
     "end_time": "2021-09-28T23:18:50.113309Z",
     "start_time": "2021-09-28T23:18:49.982316Z"
    }
   },
   "outputs": [
    {
     "name": "stdout",
     "output_type": "stream",
     "text": [
      "País Afghanistan \t\ttem nível de emprego 55.70000076\n",
      "País Albania \t\ttem nível de emprego 51.40000153\n",
      "País Algeria \t\ttem nível de emprego 50.5\n",
      "País Angola \t\ttem nível de emprego 75.69999695\n",
      "País Argentina \t\ttem nível de emprego 58.40000153\n",
      "País Armenia \t\ttem nível de emprego 40.09999847\n",
      "País Australia \t\ttem nível de emprego 61.5\n",
      "País Austria \t\ttem nível de emprego 57.09999847\n",
      "País Azerbaijan \t\ttem nível de emprego 60.90000153\n",
      "País Bahamas \t\ttem nível de emprego 66.59999847\n",
      "País Bahrain \t\ttem nível de emprego 60.40000153\n",
      "País Bangladesh \t\ttem nível de emprego 68.09999847\n",
      "País Barbados \t\ttem nível de emprego 66.90000153\n",
      "País Belarus \t\ttem nível de emprego 53.40000153\n",
      "País Belgium \t\ttem nível de emprego 48.59999847\n",
      "País Belize \t\ttem nível de emprego 56.79999924\n",
      "País Benin \t\ttem nível de emprego 71.59999847\n",
      "País Bhutan \t\ttem nível de emprego 58.40000153\n",
      "País Bolivia \t\ttem nível de emprego 70.40000153\n",
      "País Bosnia and Herzegovina \t\ttem nível de emprego 41.20000076\n"
     ]
    }
   ],
   "source": [
    "for i in range(len(paises)):\n",
    "    pais = paises[i]\n",
    "    pais_emprego = emprego[i]\n",
    "    print ('País {} \\t\\ttem nível de emprego {}'.format(pais,pais_emprego))"
   ]
  },
  {
   "cell_type": "code",
   "execution_count": 11,
   "metadata": {
    "ExecuteTime": {
     "end_time": "2021-09-28T23:18:50.346744Z",
     "start_time": "2021-09-28T23:18:50.117787Z"
    }
   },
   "outputs": [
    {
     "name": "stdout",
     "output_type": "stream",
     "text": [
      "58.68500003850001\n",
      "9.338269113687888\n",
      "75.69999695\n",
      "1173.70000077\n"
     ]
    }
   ],
   "source": [
    "# Numpy\n",
    "print (emprego.mean())\n",
    "print (emprego.std())\n",
    "print (emprego.max())\n",
    "print (emprego.sum())"
   ]
  },
  {
   "cell_type": "code",
   "execution_count": 12,
   "metadata": {
    "ExecuteTime": {
     "end_time": "2021-09-28T23:18:50.518321Z",
     "start_time": "2021-09-28T23:18:50.350758Z"
    },
    "code_folding": []
   },
   "outputs": [],
   "source": [
    "def max_emprego(paises, emprego):\n",
    "    '''\n",
    "    Retorna o nome do país com maior nivel de emprego\n",
    "    '''\n",
    "    max_pais = None # Replace this with your code\n",
    "    max_valor = None   # Replace this with your code\n",
    "    max_valor = emprego.max()\n",
    "    for i in range(len(paises)):\n",
    "        if max_valor == emprego[i]:\n",
    "            max_pais = paises[i]\n",
    "    return (max_pais, max_valor)\n"
   ]
  },
  {
   "cell_type": "code",
   "execution_count": 13,
   "metadata": {
    "ExecuteTime": {
     "end_time": "2021-09-28T23:18:50.658233Z",
     "start_time": "2021-09-28T23:18:50.521271Z"
    }
   },
   "outputs": [
    {
     "name": "stdout",
     "output_type": "stream",
     "text": [
      "('Angola', 75.69999695)\n"
     ]
    }
   ],
   "source": [
    "print (max_emprego(paises, emprego))"
   ]
  },
  {
   "cell_type": "code",
   "execution_count": 14,
   "metadata": {
    "ExecuteTime": {
     "end_time": "2021-09-28T23:18:50.829978Z",
     "start_time": "2021-09-28T23:18:50.661251Z"
    }
   },
   "outputs": [],
   "source": [
    "# Primeiros 20 países com dados de conclusão escolar\n",
    "\n",
    "# First 20 countries with school completion data\n",
    "paises = np.array([\n",
    "       'Algeria', 'Argentina', 'Armenia', 'Aruba', 'Austria','Azerbaijan',\n",
    "       'Bahamas', 'Barbados', 'Belarus', 'Belgium', 'Belize', 'Bolivia',\n",
    "       'Botswana', 'Brunei', 'Bulgaria', 'Burkina Faso', 'Burundi',\n",
    "       'Cambodia', 'Cameroon', 'Cape Verde'\n",
    "])\n",
    "\n",
    "# Taxa de conclusão escolar feminina em 2007 para esses 20 países\n",
    "dados_conclusao_escolar_feminino = np.array([\n",
    "    97.35583,  104.62379,  103.02998,   95.14321,  103.69019,\n",
    "    98.49185,  100.88828,   95.43974,   92.11484,   91.54804,\n",
    "    95.98029,   98.22902,   96.12179,  119.28105,   97.84627,\n",
    "    29.07386,   38.41644,   90.70509,   51.7478 ,   95.45072\n",
    "])\n",
    "\n",
    "# Taxa de conclusão escolar masculina em 2007 para esses 20 países\n",
    "dados_conclusao_escolar_masculino = np.array([\n",
    "     95.47622,  100.66476,   99.7926 ,   91.48936,  103.22096,\n",
    "     97.80458,  103.81398,   88.11736,   93.55611,   87.76347,\n",
    "    102.45714,   98.73953,   92.22388,  115.3892 ,   98.70502,\n",
    "     37.00692,   45.39401,   91.22084,   62.42028,   90.66958\n",
    "])"
   ]
  },
  {
   "cell_type": "code",
   "execution_count": 15,
   "metadata": {
    "ExecuteTime": {
     "end_time": "2021-09-28T23:18:51.001399Z",
     "start_time": "2021-09-28T23:18:50.833896Z"
    }
   },
   "outputs": [],
   "source": [
    "def taxa_geral_de_conclusao(dados_conclusao_escolar_feminino, dados_conclusao_escolar_masculino):\n",
    "    '''\n",
    "    Retorna um  NumPy array a taxa geral de conclusao por país. \n",
    "    '''\n",
    "    taxa = (dados_conclusao_escolar_feminino/dados_conclusao_escolar_masculino)/2\n",
    "    print (taxa)    \n",
    "    return None"
   ]
  },
  {
   "cell_type": "code",
   "execution_count": 16,
   "metadata": {
    "ExecuteTime": {
     "end_time": "2021-09-28T23:18:51.265507Z",
     "start_time": "2021-09-28T23:18:51.004422Z"
    }
   },
   "outputs": [
    {
     "name": "stdout",
     "output_type": "stream",
     "text": [
      "[0.50984334 0.51966443 0.51622054 0.51996872 0.50227294 0.50351349\n",
      " 0.48590893 0.54154902 0.4922973  0.52156119 0.46839239 0.49741487\n",
      " 0.52113287 0.51686401 0.49564992 0.39281653 0.42314438 0.49717307\n",
      " 0.41451112 0.52636573]\n"
     ]
    }
   ],
   "source": [
    "taxa_geral_de_conclusao(dados_conclusao_escolar_feminino, dados_conclusao_escolar_masculino)"
   ]
  },
  {
   "cell_type": "code",
   "execution_count": 17,
   "metadata": {
    "ExecuteTime": {
     "end_time": "2021-09-28T23:18:51.419474Z",
     "start_time": "2021-09-28T23:18:51.269453Z"
    }
   },
   "outputs": [],
   "source": [
    "# Tempo gasto em sala de aula na primeira semana para 20 alunos\n",
    "tempo_gasto_em_sala = np.array([\n",
    "       12.89697233,    0.        ,   64.55043217,    0.        ,\n",
    "       24.2315615 ,   39.991625  ,    0.        ,    0.        ,\n",
    "      147.20683783,    0.        ,    0.        ,    0.        ,\n",
    "       45.18261617,  157.60454283,  133.2434615 ,   52.85000767,\n",
    "        0.        ,   54.9204785 ,   26.78142417,    0.\n",
    "])\n",
    "\n",
    "# Dias de cancelamento para 20 alunos\n",
    "dias_para_cancelamento = np.array([\n",
    "      4,   5,  37,   3,  12,   4,  35,  38,   5,  37,   3,   3,  68,\n",
    "     38,  98,   2, 249,   2, 127,  35\n",
    "])"
   ]
  },
  {
   "cell_type": "code",
   "execution_count": 18,
   "metadata": {
    "ExecuteTime": {
     "end_time": "2021-09-28T23:18:51.624235Z",
     "start_time": "2021-09-28T23:18:51.423468Z"
    }
   },
   "outputs": [],
   "source": [
    "def media_tempo_para_estudantes_pagarem (tempo_gasto_em_sala, dias_para_cancelamento):\n",
    "    '''\n",
    "    tempo medio gasto na sala de aula\n",
    "    '''\n",
    "    is_paid = dias_para_cancelamento > 7\n",
    "    tempo_pago = tempo_gasto_em_sala[is_paid]\n",
    "    print (tempo_pago)\n",
    "    return tempo_pago.mean()\n",
    "\n"
   ]
  },
  {
   "cell_type": "code",
   "execution_count": 19,
   "metadata": {
    "ExecuteTime": {
     "end_time": "2021-09-28T23:18:51.797626Z",
     "start_time": "2021-09-28T23:18:51.627233Z"
    }
   },
   "outputs": [
    {
     "name": "stdout",
     "output_type": "stream",
     "text": [
      "[ 64.55043217  24.2315615    0.           0.           0.\n",
      "  45.18261617 157.60454283 133.2434615    0.          26.78142417\n",
      "   0.        ]\n",
      "41.05400348545454\n"
     ]
    }
   ],
   "source": [
    "print (media_tempo_para_estudantes_pagarem(tempo_gasto_em_sala, dias_para_cancelamento))"
   ]
  },
  {
   "cell_type": "markdown",
   "metadata": {
    "ExecuteTime": {
     "end_time": "2021-09-28T17:45:52.244466Z",
     "start_time": "2021-09-28T17:45:52.227459Z"
    }
   },
   "source": [
    "### Sessão 2 - Utilizando PANDAS"
   ]
  },
  {
   "cell_type": "code",
   "execution_count": 20,
   "metadata": {
    "ExecuteTime": {
     "end_time": "2021-09-28T23:18:51.955472Z",
     "start_time": "2021-09-28T23:18:51.801632Z"
    }
   },
   "outputs": [],
   "source": [
    "df = pd.DataFrame({'paises': paises, 'emprego': emprego}, columns=['paises', 'emprego'], index=paises)"
   ]
  },
  {
   "cell_type": "code",
   "execution_count": 21,
   "metadata": {
    "ExecuteTime": {
     "end_time": "2021-09-28T23:18:52.233309Z",
     "start_time": "2021-09-28T23:18:51.958472Z"
    }
   },
   "outputs": [
    {
     "data": {
      "text/html": [
       "<div>\n",
       "<style scoped>\n",
       "    .dataframe tbody tr th:only-of-type {\n",
       "        vertical-align: middle;\n",
       "    }\n",
       "\n",
       "    .dataframe tbody tr th {\n",
       "        vertical-align: top;\n",
       "    }\n",
       "\n",
       "    .dataframe thead th {\n",
       "        text-align: right;\n",
       "    }\n",
       "</style>\n",
       "<table border=\"1\" class=\"dataframe\">\n",
       "  <thead>\n",
       "    <tr style=\"text-align: right;\">\n",
       "      <th></th>\n",
       "      <th>paises</th>\n",
       "      <th>emprego</th>\n",
       "    </tr>\n",
       "  </thead>\n",
       "  <tbody>\n",
       "    <tr>\n",
       "      <th>Algeria</th>\n",
       "      <td>Algeria</td>\n",
       "      <td>55.70</td>\n",
       "    </tr>\n",
       "    <tr>\n",
       "      <th>Argentina</th>\n",
       "      <td>Argentina</td>\n",
       "      <td>51.40</td>\n",
       "    </tr>\n",
       "    <tr>\n",
       "      <th>Armenia</th>\n",
       "      <td>Armenia</td>\n",
       "      <td>50.50</td>\n",
       "    </tr>\n",
       "    <tr>\n",
       "      <th>Aruba</th>\n",
       "      <td>Aruba</td>\n",
       "      <td>75.70</td>\n",
       "    </tr>\n",
       "    <tr>\n",
       "      <th>Austria</th>\n",
       "      <td>Austria</td>\n",
       "      <td>58.40</td>\n",
       "    </tr>\n",
       "    <tr>\n",
       "      <th>Azerbaijan</th>\n",
       "      <td>Azerbaijan</td>\n",
       "      <td>40.10</td>\n",
       "    </tr>\n",
       "    <tr>\n",
       "      <th>Bahamas</th>\n",
       "      <td>Bahamas</td>\n",
       "      <td>61.50</td>\n",
       "    </tr>\n",
       "    <tr>\n",
       "      <th>Barbados</th>\n",
       "      <td>Barbados</td>\n",
       "      <td>57.10</td>\n",
       "    </tr>\n",
       "    <tr>\n",
       "      <th>Belarus</th>\n",
       "      <td>Belarus</td>\n",
       "      <td>60.90</td>\n",
       "    </tr>\n",
       "    <tr>\n",
       "      <th>Belgium</th>\n",
       "      <td>Belgium</td>\n",
       "      <td>66.60</td>\n",
       "    </tr>\n",
       "    <tr>\n",
       "      <th>Belize</th>\n",
       "      <td>Belize</td>\n",
       "      <td>60.40</td>\n",
       "    </tr>\n",
       "    <tr>\n",
       "      <th>Bolivia</th>\n",
       "      <td>Bolivia</td>\n",
       "      <td>68.10</td>\n",
       "    </tr>\n",
       "    <tr>\n",
       "      <th>Botswana</th>\n",
       "      <td>Botswana</td>\n",
       "      <td>66.90</td>\n",
       "    </tr>\n",
       "    <tr>\n",
       "      <th>Brunei</th>\n",
       "      <td>Brunei</td>\n",
       "      <td>53.40</td>\n",
       "    </tr>\n",
       "    <tr>\n",
       "      <th>Bulgaria</th>\n",
       "      <td>Bulgaria</td>\n",
       "      <td>48.60</td>\n",
       "    </tr>\n",
       "    <tr>\n",
       "      <th>Burkina Faso</th>\n",
       "      <td>Burkina Faso</td>\n",
       "      <td>56.80</td>\n",
       "    </tr>\n",
       "    <tr>\n",
       "      <th>Burundi</th>\n",
       "      <td>Burundi</td>\n",
       "      <td>71.60</td>\n",
       "    </tr>\n",
       "    <tr>\n",
       "      <th>Cambodia</th>\n",
       "      <td>Cambodia</td>\n",
       "      <td>58.40</td>\n",
       "    </tr>\n",
       "    <tr>\n",
       "      <th>Cameroon</th>\n",
       "      <td>Cameroon</td>\n",
       "      <td>70.40</td>\n",
       "    </tr>\n",
       "    <tr>\n",
       "      <th>Cape Verde</th>\n",
       "      <td>Cape Verde</td>\n",
       "      <td>41.20</td>\n",
       "    </tr>\n",
       "  </tbody>\n",
       "</table>\n",
       "</div>"
      ],
      "text/plain": [
       "                    paises  emprego\n",
       "Algeria            Algeria    55.70\n",
       "Argentina        Argentina    51.40\n",
       "Armenia            Armenia    50.50\n",
       "Aruba                Aruba    75.70\n",
       "Austria            Austria    58.40\n",
       "Azerbaijan      Azerbaijan    40.10\n",
       "Bahamas            Bahamas    61.50\n",
       "Barbados          Barbados    57.10\n",
       "Belarus            Belarus    60.90\n",
       "Belgium            Belgium    66.60\n",
       "Belize              Belize    60.40\n",
       "Bolivia            Bolivia    68.10\n",
       "Botswana          Botswana    66.90\n",
       "Brunei              Brunei    53.40\n",
       "Bulgaria          Bulgaria    48.60\n",
       "Burkina Faso  Burkina Faso    56.80\n",
       "Burundi            Burundi    71.60\n",
       "Cambodia          Cambodia    58.40\n",
       "Cameroon          Cameroon    70.40\n",
       "Cape Verde      Cape Verde    41.20"
      ]
     },
     "execution_count": 21,
     "metadata": {},
     "output_type": "execute_result"
    }
   ],
   "source": [
    "df.head(20)"
   ]
  },
  {
   "cell_type": "code",
   "execution_count": 22,
   "metadata": {
    "ExecuteTime": {
     "end_time": "2021-09-28T23:18:52.311336Z",
     "start_time": "2021-09-28T23:18:52.237313Z"
    }
   },
   "outputs": [
    {
     "data": {
      "text/plain": [
       "(20, 2)"
      ]
     },
     "execution_count": 22,
     "metadata": {},
     "output_type": "execute_result"
    }
   ],
   "source": [
    "#Quantidade de linhas e colunas\n",
    "df.shape"
   ]
  },
  {
   "cell_type": "code",
   "execution_count": 23,
   "metadata": {
    "ExecuteTime": {
     "end_time": "2021-09-28T23:18:52.468476Z",
     "start_time": "2021-09-28T23:18:52.316311Z"
    }
   },
   "outputs": [
    {
     "data": {
      "text/plain": [
       "paises      object\n",
       "emprego    float64\n",
       "dtype: object"
      ]
     },
     "execution_count": 23,
     "metadata": {},
     "output_type": "execute_result"
    }
   ],
   "source": [
    "#Verificando os tipos de dados\n",
    "df.dtypes"
   ]
  },
  {
   "cell_type": "code",
   "execution_count": 24,
   "metadata": {
    "ExecuteTime": {
     "end_time": "2021-09-28T23:18:52.642272Z",
     "start_time": "2021-09-28T23:18:52.479468Z"
    }
   },
   "outputs": [
    {
     "data": {
      "text/plain": [
       "paises     0\n",
       "emprego    0\n",
       "dtype: int64"
      ]
     },
     "execution_count": 24,
     "metadata": {},
     "output_type": "execute_result"
    }
   ],
   "source": [
    "#Verificando se temos dados faltantes\n",
    "df.isnull().sum()"
   ]
  },
  {
   "cell_type": "code",
   "execution_count": 25,
   "metadata": {
    "ExecuteTime": {
     "end_time": "2021-09-28T23:18:52.799090Z",
     "start_time": "2021-09-28T23:18:52.646280Z"
    }
   },
   "outputs": [
    {
     "data": {
      "text/plain": [
       "count   20.00\n",
       "mean    58.69\n",
       "std      9.58\n",
       "min     40.10\n",
       "25%     52.90\n",
       "50%     58.40\n",
       "75%     66.67\n",
       "max     75.70\n",
       "Name: emprego, dtype: float64"
      ]
     },
     "execution_count": 25,
     "metadata": {},
     "output_type": "execute_result"
    }
   ],
   "source": [
    "df[\"emprego\"].describe()"
   ]
  },
  {
   "cell_type": "code",
   "execution_count": 26,
   "metadata": {
    "ExecuteTime": {
     "end_time": "2021-09-28T23:18:52.955481Z",
     "start_time": "2021-09-28T23:18:52.803062Z"
    }
   },
   "outputs": [
    {
     "ename": "SyntaxError",
     "evalue": "invalid character '–' (U+2013) (Temp/ipykernel_25488/49455219.py, line 7)",
     "output_type": "error",
     "traceback": [
      "\u001b[1;36m  File \u001b[1;32m\"C:\\Users\\adema\\AppData\\Local\\Temp/ipykernel_25488/49455219.py\"\u001b[1;36m, line \u001b[1;32m7\u001b[0m\n\u001b[1;33m    iqr = q3 – q1\u001b[0m\n\u001b[1;37m             ^\u001b[0m\n\u001b[1;31mSyntaxError\u001b[0m\u001b[1;31m:\u001b[0m invalid character '–' (U+2013)\n"
     ]
    }
   ],
   "source": [
    "def removeoutlier(values):\n",
    "\n",
    "    fator = 1.5\n",
    "\n",
    "    q3, q1 = np.percentile(values, [75, 25])\n",
    "\n",
    "    iqr = q3 – q1\n",
    "\n",
    "    lowpass = q1 – (iqr * fator)\n",
    "\n",
    "    highpass = q3 + (iqr * fator)\n",
    "\n",
    "    return [v for v in values if v > lowpass and v < highpass]"
   ]
  },
  {
   "cell_type": "code",
   "execution_count": null,
   "metadata": {
    "ExecuteTime": {
     "end_time": "2021-09-28T23:18:52.959470Z",
     "start_time": "2021-09-28T23:18:52.959470Z"
    }
   },
   "outputs": [],
   "source": [
    "Q1 = df['emprego'].quantile(0.25)\n",
    "Q3 = df['emprego'].quantile(0.75)\n",
    "IQR = Q3 - Q1\n",
    "valorMinOutlier = Q1 - (IQR * 1.5)\n",
    "\n",
    "valorMaxOutlier = Q3 + (IQR * 1.5)"
   ]
  },
  {
   "cell_type": "code",
   "execution_count": null,
   "metadata": {
    "ExecuteTime": {
     "end_time": "2021-09-28T23:18:52.962468Z",
     "start_time": "2021-09-28T23:18:52.962468Z"
    },
    "code_folding": []
   },
   "outputs": [],
   "source": [
    "Q1 = df['emprego'].quantile(0.25)\n",
    "Q3 = df['emprego'].quantile(0.75)\n",
    "\n",
    "IQR = Q3 - Q1\n",
    "\n",
    "valorMinOutlier = Q1-(IQR*1.5)\n",
    "\n",
    "valorMaxOutlier = Q3+(IQR*1.5)\n",
    "\n",
    "print ('Q1={} Q3={} IQR={} valorMinOutlier={} valorMaxOutlier={}'.format(Q1, Q3,IQR,valorMinOutlier, valorMaxOutlier))"
   ]
  },
  {
   "cell_type": "code",
   "execution_count": null,
   "metadata": {
    "ExecuteTime": {
     "end_time": "2021-09-28T23:18:52.965470Z",
     "start_time": "2021-09-28T23:18:52.965470Z"
    }
   },
   "outputs": [],
   "source": [
    "df_sem_outlier = df[(df['emprego']< valorMaxOutlier) & (df['emprego'] > valorMinOutlier)]"
   ]
  },
  {
   "cell_type": "code",
   "execution_count": 27,
   "metadata": {
    "ExecuteTime": {
     "end_time": "2021-09-28T23:18:54.313058Z",
     "start_time": "2021-09-28T23:18:53.425223Z"
    }
   },
   "outputs": [
    {
     "ename": "NameError",
     "evalue": "name 'df_sem_outlier' is not defined",
     "output_type": "error",
     "traceback": [
      "\u001b[1;31m---------------------------------------------------------------------------\u001b[0m",
      "\u001b[1;31mNameError\u001b[0m                                 Traceback (most recent call last)",
      "\u001b[1;32m~\\AppData\\Local\\Temp/ipykernel_25488/2542808358.py\u001b[0m in \u001b[0;36m<module>\u001b[1;34m\u001b[0m\n\u001b[1;32m----> 1\u001b[1;33m \u001b[0mdf_sem_outlier\u001b[0m\u001b[1;33m\u001b[0m\u001b[1;33m\u001b[0m\u001b[0m\n\u001b[0m",
      "\u001b[1;31mNameError\u001b[0m: name 'df_sem_outlier' is not defined"
     ]
    }
   ],
   "source": [
    "df_sem_outlier"
   ]
  },
  {
   "cell_type": "code",
   "execution_count": null,
   "metadata": {
    "ExecuteTime": {
     "end_time": "2021-09-28T23:18:54.316061Z",
     "start_time": "2021-09-28T23:18:54.316061Z"
    }
   },
   "outputs": [],
   "source": [
    "sns.set_theme(style=\"whitegrid\")\n",
    "ax= sns.boxplot(x = df['emprego']) \n",
    "plt.ylabel('Paises')\n",
    "plt.show()"
   ]
  },
  {
   "cell_type": "code",
   "execution_count": 28,
   "metadata": {
    "ExecuteTime": {
     "end_time": "2021-09-28T23:18:56.277564Z",
     "start_time": "2021-09-28T23:18:54.554143Z"
    }
   },
   "outputs": [
    {
     "data": {
      "text/plain": [
       "Text(0, 0.5, 'Emprego')"
      ]
     },
     "execution_count": 28,
     "metadata": {},
     "output_type": "execute_result"
    },
    {
     "data": {
      "application/pdf": "[encoded data removed]",
      "image/png": "[encoded data removed]",
      "text/plain": [
       "<Figure size 864x576 with 1 Axes>"
      ]
     },
     "metadata": {},
     "output_type": "display_data"
    }
   ],
   "source": [
    "df['emprego'].sort_values(ascending=True).plot(kind=\"bar\", title=\"test\")\n",
    "plt.xticks(rotation=90, horizontalalignment=\"center\")\n",
    "plt.title(\"Paises x Emprego\")\n",
    "plt.xlabel(\"Países\")\n",
    "plt.ylabel(\"Emprego\")"
   ]
  },
  {
   "cell_type": "code",
   "execution_count": 29,
   "metadata": {
    "ExecuteTime": {
     "end_time": "2021-09-28T23:18:56.857835Z",
     "start_time": "2021-09-28T23:18:56.282550Z"
    }
   },
   "outputs": [
    {
     "data": {
      "application/pdf": "[encoded data removed]",
      "image/png": "[encoded data removed]",
      "text/plain": [
       "<Figure size 864x576 with 1 Axes>"
      ]
     },
     "metadata": {},
     "output_type": "display_data"
    }
   ],
   "source": [
    "#Histograma\n",
    "plt.title(\"Paises x Emprego\")\n",
    "plt.hist(df[\"emprego\"]);"
   ]
  },
  {
   "cell_type": "code",
   "execution_count": 30,
   "metadata": {
    "ExecuteTime": {
     "end_time": "2021-09-28T23:18:57.594170Z",
     "start_time": "2021-09-28T23:18:56.860840Z"
    }
   },
   "outputs": [
    {
     "data": {
      "application/pdf": "[encoded data removed]",
      "image/png": "[encoded data removed]",
      "text/plain": [
       "<Figure size 864x576 with 1 Axes>"
      ]
     },
     "metadata": {},
     "output_type": "display_data"
    }
   ],
   "source": [
    "plt.scatter(x=df[\"emprego\"], y = df[\"paises\"]);"
   ]
  },
  {
   "cell_type": "markdown",
   "metadata": {
    "ExecuteTime": {
     "end_time": "2021-09-28T17:49:36.941724Z",
     "start_time": "2021-09-28T17:49:36.936720Z"
    }
   },
   "source": [
    "### Sessão 3 :Operações com numPy arrays"
   ]
  },
  {
   "cell_type": "code",
   "execution_count": 31,
   "metadata": {
    "ExecuteTime": {
     "end_time": "2021-09-28T23:18:57.625165Z",
     "start_time": "2021-09-28T23:18:57.604167Z"
    }
   },
   "outputs": [
    {
     "name": "stdout",
     "output_type": "stream",
     "text": [
      "[2 4 4 6]\n",
      "[0 0 2 2]\n",
      "[1 4 3 8]\n",
      "[1. 1. 3. 2.]\n",
      "[ 1  4  3 16]\n"
     ]
    }
   ],
   "source": [
    "# operações aritméticas em 2 numpy arrays\n",
    "a = np.array([1, 2, 3, 4])\n",
    "b = np.array([1, 2, 1, 2])\n",
    "    \n",
    "print (a+ b)\n",
    "print (a - b)\n",
    "print (a * b)\n",
    "print (a / b)\n",
    "print (a ** b)"
   ]
  },
  {
   "cell_type": "code",
   "execution_count": 32,
   "metadata": {
    "ExecuteTime": {
     "end_time": "2021-09-28T23:18:57.767161Z",
     "start_time": "2021-09-28T23:18:57.641168Z"
    }
   },
   "outputs": [
    {
     "name": "stdout",
     "output_type": "stream",
     "text": [
      "[ True False False False]\n",
      "[ True  True  True False]\n",
      "[False False  True  True]\n",
      "[ True  True False False]\n",
      "[False False False False]\n",
      "[ True  True  True  True]\n",
      "[ True  True False False]\n"
     ]
    }
   ],
   "source": [
    "# Operações lógicas com NumPy arrays\n",
    "a = np.array([True, True, False, False])\n",
    "b = np.array([True, False, True, False])\n",
    "    \n",
    "print (a & b)\n",
    "print (a | b)\n",
    "print (~a)\n",
    "    \n",
    "print (a & True)\n",
    "print (a & False)\n",
    "    \n",
    "print (a | True)\n",
    "print (a | False)"
   ]
  },
  {
   "cell_type": "code",
   "execution_count": 33,
   "metadata": {
    "ExecuteTime": {
     "end_time": "2021-09-28T23:18:58.514412Z",
     "start_time": "2021-09-28T23:18:58.503412Z"
    }
   },
   "outputs": [
    {
     "name": "stdout",
     "output_type": "stream",
     "text": [
      "[False False False  True  True]\n",
      "[False False  True  True  True]\n",
      "[ True  True False False False]\n",
      "[ True  True  True False False]\n",
      "[False False  True False False]\n",
      "[ True  True False  True  True]\n"
     ]
    }
   ],
   "source": [
    "# Operações de comparação entre 2 NumPy Arrays\n",
    "\n",
    "a = np.array([1, 2, 3, 4, 5])\n",
    "b = np.array([5, 4, 3, 2, 1])\n",
    "    \n",
    "print (a > b)\n",
    "print (a >= b)\n",
    "print (a < b)\n",
    "print (a <= b)\n",
    "print (a == b)\n",
    "print (a != b)"
   ]
  },
  {
   "cell_type": "code",
   "execution_count": 34,
   "metadata": {
    "ExecuteTime": {
     "end_time": "2021-09-28T23:18:59.340965Z",
     "start_time": "2021-09-28T23:18:59.319971Z"
    }
   },
   "outputs": [
    {
     "name": "stdout",
     "output_type": "stream",
     "text": [
      "[False False  True  True]\n",
      "[False  True  True  True]\n",
      "[ True False False False]\n",
      "[ True  True False False]\n",
      "[False  True False False]\n",
      "[ True False  True  True]\n"
     ]
    }
   ],
   "source": [
    "# Operações de compração entre um NumPy array and um número\n",
    "\n",
    "a = np.array([1, 2, 3, 4])\n",
    "b = 2\n",
    "    \n",
    "print (a > b)\n",
    "print (a >= b)\n",
    "print (a < b)\n",
    "print (a <= b)\n",
    "print (a == b)\n",
    "print (a != b)\n",
    "    "
   ]
  },
  {
   "cell_type": "code",
   "execution_count": 35,
   "metadata": {
    "ExecuteTime": {
     "end_time": "2021-09-28T23:19:00.009533Z",
     "start_time": "2021-09-28T23:18:59.992515Z"
    }
   },
   "outputs": [
    {
     "name": "stdout",
     "output_type": "stream",
     "text": [
      "[1 2]\n",
      "[1 3]\n"
     ]
    }
   ],
   "source": [
    "import numpy as np\n",
    "\n",
    "a = np.array([1, 2, 3, 4])\n",
    "b = np.array([True, True, False, False])\n",
    "    \n",
    "print (a[b])\n",
    "print (a[np.array([True, False, True, False])])"
   ]
  },
  {
   "cell_type": "code",
   "execution_count": 36,
   "metadata": {
    "ExecuteTime": {
     "end_time": "2021-09-28T23:19:00.944229Z",
     "start_time": "2021-09-28T23:19:00.928250Z"
    }
   },
   "outputs": [
    {
     "name": "stdout",
     "output_type": "stream",
     "text": [
      "[2 3 2]\n",
      "[2 3 2]\n"
     ]
    }
   ],
   "source": [
    "# Criando um array de indice usando operações vetorizadas\n",
    "a = np.array([1, 2, 3, 2, 1])\n",
    "b = (a >= 2)\n",
    "    \n",
    "print (a[b])\n",
    "print (a[a >= 2])"
   ]
  },
  {
   "cell_type": "code",
   "execution_count": 37,
   "metadata": {
    "ExecuteTime": {
     "end_time": "2021-09-28T23:19:01.582709Z",
     "start_time": "2021-09-28T23:19:01.559707Z"
    }
   },
   "outputs": [
    {
     "name": "stdout",
     "output_type": "stream",
     "text": [
      "[False  True False  True False]\n",
      "[2 4]\n"
     ]
    }
   ],
   "source": [
    "#Criando um array através de operações vetorizadas com outro array\n",
    "\n",
    "a = np.array([1, 2, 3, 4, 5])\n",
    "b = np.array([1, 2, 3, 2, 1])\n",
    "    \n",
    "print (b == 2)\n",
    "print (a[b == 2])"
   ]
  },
  {
   "cell_type": "code",
   "execution_count": 38,
   "metadata": {
    "ExecuteTime": {
     "end_time": "2021-09-28T23:19:02.192375Z",
     "start_time": "2021-09-28T23:19:02.184355Z"
    }
   },
   "outputs": [
    {
     "name": "stdout",
     "output_type": "stream",
     "text": [
      "[1 2 3 4]\n"
     ]
    }
   ],
   "source": [
    "a = np.array([1,2,3,4])\n",
    "b = a\n",
    "a  = a + np.array([1,1,1,1])\n",
    "print (b)\n"
   ]
  },
  {
   "cell_type": "code",
   "execution_count": 39,
   "metadata": {
    "ExecuteTime": {
     "end_time": "2021-09-28T23:19:03.065335Z",
     "start_time": "2021-09-28T23:19:03.051332Z"
    }
   },
   "outputs": [
    {
     "name": "stdout",
     "output_type": "stream",
     "text": [
      "[2 3 4 5]\n"
     ]
    }
   ],
   "source": [
    "a = np.array([1,2,3,4])\n",
    "b = a\n",
    "a += np.array([1,1,1,1,])\n",
    "print (b)"
   ]
  },
  {
   "cell_type": "code",
   "execution_count": 40,
   "metadata": {
    "ExecuteTime": {
     "end_time": "2021-09-28T23:19:04.066110Z",
     "start_time": "2021-09-28T23:19:04.056103Z"
    }
   },
   "outputs": [
    {
     "name": "stdout",
     "output_type": "stream",
     "text": [
      "[1 2 3 4]\n",
      "[2 3 4 5]\n"
     ]
    }
   ],
   "source": [
    "a = np.array([1,2,3,4])\n",
    "b = a\n",
    "a  = a + np.array([1,1,1,1])\n",
    "print (b)\n",
    "print (a)"
   ]
  },
  {
   "cell_type": "code",
   "execution_count": 41,
   "metadata": {
    "ExecuteTime": {
     "end_time": "2021-09-28T23:19:04.705308Z",
     "start_time": "2021-09-28T23:19:04.696301Z"
    }
   },
   "outputs": [
    {
     "name": "stdout",
     "output_type": "stream",
     "text": [
      "[100   2   3   4   5]\n",
      "[100   2   3]\n"
     ]
    }
   ],
   "source": [
    "import numpy as np\n",
    "a = np.array([1,2,3,4,5])\n",
    "slice = a[:3]\n",
    "slice[0]=100\n",
    "print (a)\n",
    "print (slice)"
   ]
  },
  {
   "cell_type": "code",
   "execution_count": null,
   "metadata": {},
   "outputs": [],
   "source": []
  }
 ],
 "metadata": {
  "kernelspec": {
   "display_name": "Python 3 (ipykernel)",
   "language": "python",
   "name": "python3"
  },
  "language_info": {
   "codemirror_mode": {
    "name": "ipython",
    "version": 3
   },
   "file_extension": ".py",
   "mimetype": "text/x-python",
   "name": "python",
   "nbconvert_exporter": "python",
   "pygments_lexer": "ipython3",
   "version": "3.9.6"
  }
 },
 "nbformat": 4,
 "nbformat_minor": 2
}
